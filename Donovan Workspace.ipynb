{
 "cells": [
  {
   "cell_type": "code",
   "execution_count": null,
   "metadata": {},
   "outputs": [],
   "source": [
    "## Custom outlier detection\n",
    "##  Determine whether values in a column are extreme outliers\n",
    "##  by a specified distance\n",
    "\n",
    "## Determine Shapiro-Wilk p-value < alpha with a function:\n",
    "from scipy.stats import shapiro\n",
    "import pandas as pd\n",
    "import numpy as np\n",
    "\n",
    "def shapiro_check(x, alpha):\n",
    "    p = shapiro(x).pvalue\n",
    "    if p > alpha:\n",
    "        return(False)\n",
    "    else:\n",
    "        return(True)"
   ]
  },
  {
   "cell_type": "code",
   "execution_count": null,
   "metadata": {},
   "outputs": [],
   "source": [
    "shapiro_check(df['Work_Experience'], 0.05)"
   ]
  },
  {
   "cell_type": "code",
   "execution_count": null,
   "metadata": {},
   "outputs": [],
   "source": [
    "shapiro(df['Work_Experience'])"
   ]
  },
  {
   "cell_type": "code",
   "execution_count": null,
   "metadata": {},
   "outputs": [],
   "source": [
    "## Pseudocode - Idea is to create a T/F column of whether the df[column] value is:\n",
    "## if normal assumption: an outlier beyond specified standard deviations\n",
    "## if non-normal assumption: an outlier \n",
    "for column in df.columns:\n",
    "    if shapiro_check(df[column], 0.05) == True:\n",
    "        outlier_up = 3 * std(df[column])\n",
    "        outlier_down = -3 * std(df[column])\n",
    "        for value in df[column]:\n",
    "            if value > outlier_up:\n",
    "                df[column + '_outlier'][value] = True\n",
    "            elif value < outlier_down:\n",
    "                df[column + '_outlier'][value] = True\n",
    "            else:\n",
    "                df[column + '_outlier'][value] = False\n",
    "        else:\n",
    "            outlier_up = 3 * std(df[column])['lower quartile']\n",
    "            outlier_down = -3 * IQR(df[column])['lower quartile']\n",
    "        for value in df[column]:\n",
    "            if value > outlier_up:\n",
    "                df[column + '_outlier'][value] = True\n",
    "            elif value < outlier_down:\n",
    "                df[column + '_outlier'][value] = True\n",
    "            else:\n",
    "                df[column + '_outlier'][value] = False\n",
    "\n",
    "\n",
    "# https://stackoverflow.com/questions/65592425/typeerror-not-supported-between-instances-of-float-and-str-when-using-s\n",
    "\n",
    "#shapiros=[]\n",
    "#\n",
    "#for variable in df.columns[2:]:\n",
    "#    tmp=df[['code',variable]]\n",
    "#    tmp=tmp[tmp[variable].notnull()]\n",
    "#    \n",
    "#    for i in tmp.code.unique().tolist():\n",
    "#        shapiro_test = stats.shapiro(tmp[tmp['code'] == i])\n",
    "#        shapiros.append(shapiro_test)\n"
   ]
  },
  {
   "cell_type": "code",
   "execution_count": null,
   "metadata": {},
   "outputs": [],
   "source": [
    "df = pd.DataFrame(np.array([[1, 2, 3], [4, 5, 6], [7, 8, 9]]),\n",
    "                   columns=['a', 'b', 'c'])\n",
    "\n",
    "## Does not create new columns\n",
    "for column in df.columns:\n",
    "    if shapiro_check(df[column], 0.05) == True:\n",
    "        outlier_up = 3 * std(df[column])\n",
    "        outlier_down = -3 * std(df[column])\n",
    "        for value in df[column]:\n",
    "            if value > outlier_up:\n",
    "                df[str(column + '_outlier')][value] = True\n",
    "            elif value < outlier_down:\n",
    "                df[str(column + '_outlier')][value] = True\n",
    "            else:\n",
    "                df[str(column + '_outlier')][value] = False\n",
    "\n",
    "df"
   ]
  }
 ],
 "metadata": {
  "language_info": {
   "name": "python"
  },
  "orig_nbformat": 4
 },
 "nbformat": 4,
 "nbformat_minor": 2
}
